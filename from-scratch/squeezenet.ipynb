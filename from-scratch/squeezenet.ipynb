{
 "cells": [
  {
   "cell_type": "code",
   "execution_count": 11,
   "id": "671f6245-34a9-4eb7-a69b-f9459452cef5",
   "metadata": {},
   "outputs": [],
   "source": [
    "import torch\n",
    "import torch.nn as nn"
   ]
  },
  {
   "cell_type": "code",
   "execution_count": 55,
   "id": "e6a59a50-753d-4bcc-96d4-b74c6350e6dc",
   "metadata": {},
   "outputs": [],
   "source": [
    "class ClassicFire(nn.Module):\n",
    "    def __init__(self, in_channels, s1x1, e1x1, e3x3):\n",
    "        super(ClassicFire, self).__init__()\n",
    "        self.squeeze_conv = nn.Conv2d(in_channels, s1x1, kernel_size=1)\n",
    "        self.relu = nn.ReLU()\n",
    "        self.expand_layer1x1 = nn.Conv2d(s1x1, e1x1, kernel_size=1)\n",
    "        self.expand_layer3x3 = nn.Conv2d(s1x1, e3x3, kernel_size=3, padding=1)\n",
    "    \n",
    "    def forward(self, x):\n",
    "        x = self.squeeze_conv(x) # [1, 16, 16, 16]\n",
    "        x = self.relu(x)\n",
    "        x1 = self.expand_layer1x1(x) # [1, 64, 16, 16]\n",
    "        x1 = self.relu(x1)\n",
    "        x2 = self.expand_layer3x3(x) # [1, 64, 16, 16]\n",
    "        x2 = self.relu(x2)\n",
    "        x = torch.cat([x1, x2], dim=1) \n",
    "        return x"
   ]
  },
  {
   "cell_type": "code",
   "execution_count": 59,
   "id": "fee2da6e-7bc5-4bb5-8e7c-6387655bbb6d",
   "metadata": {},
   "outputs": [
    {
     "data": {
      "text/plain": [
       "'\\nfire = ClassicFire(1, 16, 64, 64)\\nif __name__ == \"__main__\":\\n    input = torch.randn(1, 1, 16, 16) # batch, channels, img_width, img_height\\n    out = fire(input)\\n    print(out.shape)\\n    print(out)\\n'"
      ]
     },
     "execution_count": 59,
     "metadata": {},
     "output_type": "execute_result"
    }
   ],
   "source": [
    "\"\"\"\n",
    "fire = ClassicFire(1, 16, 64, 64)\n",
    "if __name__ == \"__main__\":\n",
    "    input = torch.randn(1, 1, 16, 16) # batch, channels, img_width, img_height\n",
    "    out = fire(input)\n",
    "    print(out.shape)\n",
    "    print(out)\n",
    "\"\"\""
   ]
  },
  {
   "cell_type": "code",
   "execution_count": 121,
   "id": "cc40f95d-9397-4ffc-a928-ad704320d553",
   "metadata": {},
   "outputs": [],
   "source": [
    "class SqueezeNet(nn.Module):\n",
    "    def __init__(self, in_channels=1, out_channels=1000):\n",
    "        super(SqueezeNet, self).__init__()\n",
    "        self.conv1 = nn.Conv2d(in_channels, out_channels=96, kernel_size=(7,7), stride=(2,2))\n",
    "        self.maxpool1 = nn.MaxPool2d(kernel_size=(3,3), stride=(2,2))\n",
    "        self.relu1 = nn.ReLU()\n",
    "        \n",
    "        self.fire2 = ClassicFire(96, 16, 64, 64)\n",
    "        self.fire3 = ClassicFire(128, 16, 64, 64)\n",
    "        self.fire4 = ClassicFire(128, 32, 128, 128)\n",
    "        self.maxpool4 = nn.MaxPool2d(kernel_size=(3,3), stride=(2,2))\n",
    "        \n",
    "        self.fire5 = ClassicFire(256, 32, 128, 128)\n",
    "        self.fire6 = ClassicFire(256, 48, 192, 192)\n",
    "        self.fire7 = ClassicFire(384, 48, 192, 192)\n",
    "        self.fire8 = ClassicFire(384, 64, 256, 256)\n",
    "        self.maxpool8 = nn.MaxPool2d(kernel_size=(3,3), stride=(2,2))\n",
    "        \n",
    "        self.fire9 = ClassicFire(512, 64, 256, 256)\n",
    "        self.conv10 = nn.Conv2d(512, out_channels, kernel_size=1, stride=1)\n",
    "        self.avgpool10 = nn.AvgPool2d(kernel_size=13, stride=1, padding=6)\n",
    "        self.softmax = nn.Softmax(dim=1)\n",
    "        \n",
    "    def forward(self, x):\n",
    "        x = self.conv1(x) # [1, 96, 109, 109]\n",
    "        x = self.maxpool1(x) # [1, 96, 54, 54]\n",
    "        x = self.relu1(x)\n",
    "        \n",
    "        x = self.fire2(x) # [1, 128, 54 54]\n",
    "        x = self.fire3(x) # [1, 128, 54, 54]\n",
    "        x = self.fire4(x) # [1, 256, 54, 54]\n",
    "        x = self.maxpool4(x) # [1, 256, 26, 26]\n",
    "        \n",
    "        x = self.fire5(x) # [1, 256, 26, 26])\n",
    "        x = self.fire6(x) # [1, 384, 26, 26]\n",
    "        x = self.fire7(x) # [1, 384, 26, 26]\n",
    "        x = self.fire8(x) # [1, 512, 26, 26]\n",
    "        x = self.maxpool8(x) # [1, 512, 12, 12]\n",
    "        \n",
    "        x = self.fire9(x) # [1, 512, 12, 12]\n",
    "        x = self.conv10(x) # [1, 1000, 12, 12]\n",
    "        x = self.avgpool10(x) # 1, 1000, 12, 12]\n",
    "        x = self.softmax(x) \n",
    "        return x"
   ]
  },
  {
   "cell_type": "code",
   "execution_count": 122,
   "id": "dc944810-1d5f-41c5-932a-d07e30b7a90f",
   "metadata": {},
   "outputs": [
    {
     "name": "stdout",
     "output_type": "stream",
     "text": [
      "torch.Size([1, 1000, 12, 12])\n",
      "tensor([[[[0.0010, 0.0010, 0.0010,  ..., 0.0010, 0.0010, 0.0010],\n",
      "          [0.0010, 0.0010, 0.0010,  ..., 0.0010, 0.0010, 0.0010],\n",
      "          [0.0010, 0.0010, 0.0010,  ..., 0.0010, 0.0010, 0.0010],\n",
      "          ...,\n",
      "          [0.0010, 0.0010, 0.0010,  ..., 0.0010, 0.0010, 0.0010],\n",
      "          [0.0010, 0.0010, 0.0010,  ..., 0.0010, 0.0010, 0.0010],\n",
      "          [0.0010, 0.0010, 0.0010,  ..., 0.0010, 0.0010, 0.0010]],\n",
      "\n",
      "         [[0.0010, 0.0010, 0.0010,  ..., 0.0010, 0.0010, 0.0010],\n",
      "          [0.0010, 0.0010, 0.0010,  ..., 0.0010, 0.0010, 0.0010],\n",
      "          [0.0010, 0.0010, 0.0010,  ..., 0.0010, 0.0010, 0.0010],\n",
      "          ...,\n",
      "          [0.0010, 0.0010, 0.0010,  ..., 0.0010, 0.0010, 0.0010],\n",
      "          [0.0010, 0.0010, 0.0010,  ..., 0.0010, 0.0010, 0.0010],\n",
      "          [0.0010, 0.0010, 0.0010,  ..., 0.0010, 0.0010, 0.0010]],\n",
      "\n",
      "         [[0.0010, 0.0010, 0.0010,  ..., 0.0010, 0.0010, 0.0010],\n",
      "          [0.0010, 0.0010, 0.0010,  ..., 0.0010, 0.0010, 0.0010],\n",
      "          [0.0010, 0.0010, 0.0010,  ..., 0.0010, 0.0010, 0.0010],\n",
      "          ...,\n",
      "          [0.0010, 0.0010, 0.0010,  ..., 0.0010, 0.0010, 0.0010],\n",
      "          [0.0010, 0.0010, 0.0010,  ..., 0.0010, 0.0010, 0.0010],\n",
      "          [0.0010, 0.0010, 0.0010,  ..., 0.0010, 0.0010, 0.0010]],\n",
      "\n",
      "         ...,\n",
      "\n",
      "         [[0.0010, 0.0010, 0.0010,  ..., 0.0010, 0.0010, 0.0010],\n",
      "          [0.0010, 0.0010, 0.0010,  ..., 0.0010, 0.0010, 0.0010],\n",
      "          [0.0010, 0.0010, 0.0010,  ..., 0.0010, 0.0010, 0.0010],\n",
      "          ...,\n",
      "          [0.0010, 0.0010, 0.0010,  ..., 0.0010, 0.0010, 0.0010],\n",
      "          [0.0010, 0.0010, 0.0010,  ..., 0.0010, 0.0010, 0.0010],\n",
      "          [0.0010, 0.0010, 0.0010,  ..., 0.0010, 0.0010, 0.0010]],\n",
      "\n",
      "         [[0.0010, 0.0010, 0.0010,  ..., 0.0010, 0.0010, 0.0010],\n",
      "          [0.0010, 0.0010, 0.0010,  ..., 0.0010, 0.0010, 0.0010],\n",
      "          [0.0010, 0.0010, 0.0010,  ..., 0.0010, 0.0010, 0.0010],\n",
      "          ...,\n",
      "          [0.0010, 0.0010, 0.0010,  ..., 0.0010, 0.0010, 0.0010],\n",
      "          [0.0010, 0.0010, 0.0010,  ..., 0.0010, 0.0010, 0.0010],\n",
      "          [0.0010, 0.0010, 0.0010,  ..., 0.0010, 0.0010, 0.0010]],\n",
      "\n",
      "         [[0.0010, 0.0010, 0.0010,  ..., 0.0010, 0.0010, 0.0010],\n",
      "          [0.0010, 0.0010, 0.0010,  ..., 0.0010, 0.0010, 0.0010],\n",
      "          [0.0010, 0.0010, 0.0010,  ..., 0.0010, 0.0010, 0.0010],\n",
      "          ...,\n",
      "          [0.0010, 0.0010, 0.0010,  ..., 0.0010, 0.0010, 0.0010],\n",
      "          [0.0010, 0.0010, 0.0010,  ..., 0.0010, 0.0010, 0.0010],\n",
      "          [0.0010, 0.0010, 0.0010,  ..., 0.0010, 0.0010, 0.0010]]]],\n",
      "       grad_fn=<SoftmaxBackward0>)\n"
     ]
    }
   ],
   "source": [
    "squeeze = SqueezeNet()\n",
    "if __name__ == \"__main__\":\n",
    "    #input = torch.randn(1, 1, 224, 224) # batch, channels, img_width, img_height\n",
    "    #out = squeeze(input)\n",
    "    print(out.shape)\n",
    "    print(out)"
   ]
  },
  {
   "cell_type": "code",
   "execution_count": null,
   "id": "266b5eb4-a91c-443a-b9c3-19081548fefa",
   "metadata": {},
   "outputs": [],
   "source": []
  },
  {
   "cell_type": "code",
   "execution_count": null,
   "id": "12da8ab9-dc86-45ab-85eb-69a66fa61d43",
   "metadata": {},
   "outputs": [],
   "source": []
  },
  {
   "cell_type": "code",
   "execution_count": null,
   "id": "dadb791f-4229-442c-a6a2-db89f5a71967",
   "metadata": {},
   "outputs": [],
   "source": []
  },
  {
   "cell_type": "code",
   "execution_count": null,
   "id": "0693683e-62e9-4feb-8cbb-448b1ae58e46",
   "metadata": {},
   "outputs": [],
   "source": []
  }
 ],
 "metadata": {
  "kernelspec": {
   "display_name": "Python 3 (ipykernel)",
   "language": "python",
   "name": "python3"
  },
  "language_info": {
   "codemirror_mode": {
    "name": "ipython",
    "version": 3
   },
   "file_extension": ".py",
   "mimetype": "text/x-python",
   "name": "python",
   "nbconvert_exporter": "python",
   "pygments_lexer": "ipython3",
   "version": "3.9.7"
  }
 },
 "nbformat": 4,
 "nbformat_minor": 5
}
